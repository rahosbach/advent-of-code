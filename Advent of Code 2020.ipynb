{
 "cells": [
  {
   "cell_type": "code",
   "execution_count": 1,
   "metadata": {},
   "outputs": [],
   "source": [
    "import itertools\n",
    "import math\n",
    "import re\n",
    "\n",
    "import aocd\n",
    "import my_utils"
   ]
  },
  {
   "cell_type": "markdown",
   "metadata": {},
   "source": [
    "# Day 1"
   ]
  },
  {
   "cell_type": "markdown",
   "metadata": {},
   "source": [
    "### Part 1"
   ]
  },
  {
   "cell_type": "code",
   "execution_count": 10,
   "metadata": {},
   "outputs": [
    {
     "data": {
      "text/plain": [
       "63616"
      ]
     },
     "execution_count": 10,
     "metadata": {},
     "output_type": "execute_result"
    }
   ],
   "source": [
    "d1 = aocd.get_data(day=1).split(\"\\n\")\n",
    "\n",
    "def day1(intlist, numvals, targetsum):\n",
    "    \"\"\"Function that takes in a list of integers (`intlist`) and\n",
    "    determines the only `numvals` number of integers that sum\n",
    "    to `targetsum`.\"\"\"\n",
    "    return math.prod(map(int, [x for x in itertools.combinations(intlist, numvals) if sum(map(int, x)) == targetsum][0]))\n",
    "\n",
    "day1(d1, 2, 2020)"
   ]
  },
  {
   "cell_type": "markdown",
   "metadata": {},
   "source": [
    "### Part 2"
   ]
  },
  {
   "cell_type": "code",
   "execution_count": 11,
   "metadata": {},
   "outputs": [
    {
     "data": {
      "text/plain": [
       "67877784"
      ]
     },
     "execution_count": 11,
     "metadata": {},
     "output_type": "execute_result"
    }
   ],
   "source": [
    "day1(d1, 3, 2020)"
   ]
  },
  {
   "cell_type": "markdown",
   "metadata": {},
   "source": [
    "# Day 2"
   ]
  },
  {
   "cell_type": "markdown",
   "metadata": {},
   "source": [
    "### Part 1"
   ]
  },
  {
   "cell_type": "code",
   "execution_count": 17,
   "metadata": {},
   "outputs": [
    {
     "data": {
      "text/plain": [
       "378"
      ]
     },
     "execution_count": 17,
     "metadata": {},
     "output_type": "execute_result"
    }
   ],
   "source": [
    "d2 = aocd.get_data(day=2).split(\"\\n\")\n",
    "\n",
    "def valid_or_not(entry):\n",
    "    pieces = entry.split(\" \")\n",
    "    minnum = int(pieces[0].split(\"-\")[0])\n",
    "    maxnum = int(pieces[0].split(\"-\")[1])\n",
    "    letter = pieces[1][0]\n",
    "    pw = pieces[2]\n",
    "    \n",
    "    return (pw.count(letter) >= minnum) & (pw.count(letter) <= maxnum)\n",
    "\n",
    "sum(map(valid_or_not, d2))"
   ]
  },
  {
   "cell_type": "markdown",
   "metadata": {},
   "source": [
    "### Part 2"
   ]
  },
  {
   "cell_type": "code",
   "execution_count": 18,
   "metadata": {},
   "outputs": [
    {
     "data": {
      "text/plain": [
       "280"
      ]
     },
     "execution_count": 18,
     "metadata": {},
     "output_type": "execute_result"
    }
   ],
   "source": [
    "def valid_or_not2(row):\n",
    "    pieces = row.split(\" \")\n",
    "    idx1 = int(pieces[0].split(\"-\")[0])\n",
    "    idx2 = int(pieces[0].split(\"-\")[1])\n",
    "    letter = pieces[1][0]\n",
    "    pw = pieces[2]\n",
    "    \n",
    "    if (pw[idx1 - 1] == letter) & (pw[idx2 - 1] == letter):\n",
    "        return False\n",
    "    elif (pw[idx1 - 1] != letter) & (pw[idx2 - 1] != letter):\n",
    "        return False\n",
    "    else:\n",
    "        return True\n",
    "    \n",
    "sum(map(valid_or_not2, d2))"
   ]
  },
  {
   "cell_type": "markdown",
   "metadata": {},
   "source": [
    "# Day 3"
   ]
  },
  {
   "cell_type": "markdown",
   "metadata": {},
   "source": [
    "### Part 1"
   ]
  },
  {
   "cell_type": "code",
   "execution_count": 25,
   "metadata": {},
   "outputs": [
    {
     "data": {
      "text/plain": [
       "176"
      ]
     },
     "execution_count": 25,
     "metadata": {},
     "output_type": "execute_result"
    }
   ],
   "source": [
    "d3 = aocd.get_data(day=3).split(\"\\n\")\n",
    "\n",
    "def toboggan_ride(right, down, row=0, col=0):\n",
    "    \"\"\"Function to check for obstructions at each point\n",
    "    as you move `right` columns to the right and `down`\n",
    "    rows down at each step, starting at `row`,`col`.\"\"\"\n",
    "    \n",
    "    count = 0\n",
    "    rowlen = len(d3[0])\n",
    "    while row < (len(d3) - 1):\n",
    "        row += down\n",
    "        col = (col + right) % rowlen\n",
    "        if d3[row][col] == \"#\":\n",
    "            count += 1\n",
    "    return count\n",
    "\n",
    "toboggan_ride(3, 1, 0, 0)"
   ]
  },
  {
   "cell_type": "markdown",
   "metadata": {},
   "source": [
    "### Part 2"
   ]
  },
  {
   "cell_type": "code",
   "execution_count": 26,
   "metadata": {},
   "outputs": [
    {
     "name": "stdout",
     "output_type": "stream",
     "text": [
      "[85, 176, 96, 87, 47]\n"
     ]
    },
    {
     "data": {
      "text/plain": [
       "5872458240"
      ]
     },
     "execution_count": 26,
     "metadata": {},
     "output_type": "execute_result"
    }
   ],
   "source": [
    "slopes = [(1,1), (3,1), (5,1), (7,1), (1,2)]\n",
    "counts = []\n",
    "\n",
    "for right,down in slopes:\n",
    "    counts.append(toboggan_ride(right, down, 0, 0))\n",
    "\n",
    "print(counts)\n",
    "math.prod(counts)"
   ]
  },
  {
   "cell_type": "markdown",
   "metadata": {},
   "source": [
    "## Day 4"
   ]
  },
  {
   "cell_type": "markdown",
   "metadata": {},
   "source": [
    "### Part 1"
   ]
  },
  {
   "cell_type": "code",
   "execution_count": 37,
   "metadata": {},
   "outputs": [],
   "source": [
    "d4 = aocd.get_data(day=4).split(\"\\n\\n\")"
   ]
  },
  {
   "cell_type": "code",
   "execution_count": 38,
   "metadata": {},
   "outputs": [
    {
     "data": {
      "text/plain": [
       "245"
      ]
     },
     "execution_count": 38,
     "metadata": {},
     "output_type": "execute_result"
    }
   ],
   "source": [
    "valid_passports = 0\n",
    "\n",
    "for passport in d4:\n",
    "    required = [\"byr\", \"iyr\", \"eyr\", \"hgt\", \"hcl\", \"ecl\", \"pid\", \"cid\"]\n",
    "    ppt = passport.replace(\"\\n\", \" \").split(\" \")  \n",
    "    for ppid in ppt:\n",
    "        if ppid.split(\":\")[0] != \"\":\n",
    "            required.remove(ppid.split(\":\")[0])\n",
    "    if (len(required) == 0) | (required == [\"cid\"]):\n",
    "        valid_passports += 1\n",
    "valid_passports"
   ]
  },
  {
   "cell_type": "markdown",
   "metadata": {},
   "source": [
    "### Part 2"
   ]
  },
  {
   "cell_type": "code",
   "execution_count": 40,
   "metadata": {},
   "outputs": [
    {
     "data": {
      "text/plain": [
       "133"
      ]
     },
     "execution_count": 40,
     "metadata": {},
     "output_type": "execute_result"
    }
   ],
   "source": [
    "valid_passports = 0\n",
    "\n",
    "for passport in d4:\n",
    "    required = [\"byr\", \"iyr\", \"eyr\", \"hgt\", \"hcl\", \"ecl\", \"pid\", \"cid\"]\n",
    "    ppt = passport.replace(\"\\n\", \" \").split(\" \")  \n",
    "    for ppid in ppt:\n",
    "        if ppid.split(\":\")[0] != \"\":\n",
    "            if ppid.split(\":\")[0].lower() == \"byr\":\n",
    "                if (int(ppid.split(\":\")[1]) >= 1920) & (int(ppid.split(\":\")[1]) <= 2002):\n",
    "                    required.remove(\"byr\")\n",
    "                else:\n",
    "                    break\n",
    "            elif ppid.split(\":\")[0].lower() == \"iyr\":\n",
    "                if (int(ppid.split(\":\")[1]) >= 2010) & (int(ppid.split(\":\")[1]) <= 2020):\n",
    "                    required.remove(\"iyr\")\n",
    "                else:\n",
    "                    break\n",
    "            elif ppid.split(\":\")[0].lower() == \"eyr\":\n",
    "                if (int(ppid.split(\":\")[1]) >= 2020) & (int(ppid.split(\":\")[1]) <= 2030):\n",
    "                    required.remove(\"eyr\")\n",
    "                else:\n",
    "                    break\n",
    "            elif ppid.split(\":\")[0].lower() == \"hgt\":\n",
    "                if \"cm\" in ppid.split(\":\")[1].lower():\n",
    "                    if (int(ppid.split(\":\")[1][:-2]) >= 150) & (int(ppid.split(\":\")[1][:-2]) <= 193):\n",
    "                        required.remove(\"hgt\")\n",
    "                    else:\n",
    "                        break\n",
    "                elif \"in\" in ppid.split(\":\")[1].lower():\n",
    "                    if (int(ppid.split(\":\")[1][:-2]) >= 59) & (int(ppid.split(\":\")[1][:-2]) <= 76):\n",
    "                        required.remove(\"hgt\")\n",
    "                    else:\n",
    "                        break\n",
    "                else:\n",
    "                    break\n",
    "            elif ppid.split(\":\")[0].lower() == \"hcl\":\n",
    "                if re.match(r\"^#[0123456789abcdef]{6}$\", ppid.split(\":\")[1].lower()):\n",
    "                    required.remove(\"hcl\")\n",
    "                else:\n",
    "                    break\n",
    "            elif ppid.split(\":\")[0].lower() == \"ecl\":\n",
    "                if ppid.split(\":\")[1].lower() in [\"amb\", \"blu\", \"brn\", \"gry\", \"grn\", \"hzl\", \"oth\"]:\n",
    "                    required.remove(\"ecl\")\n",
    "                else:\n",
    "                    break\n",
    "            elif ppid.split(\":\")[0].lower() == \"pid\":\n",
    "                if re.match(r\"^[0123456789]{9}$\", ppid.split(\":\")[1].lower()):\n",
    "                    required.remove(\"pid\")\n",
    "                else:\n",
    "                    break                \n",
    "    if (len(required) == 0) | (required == [\"cid\"]):\n",
    "        valid_passports += 1\n",
    "valid_passports"
   ]
  },
  {
   "cell_type": "markdown",
   "metadata": {},
   "source": [
    "# Day 5"
   ]
  },
  {
   "cell_type": "markdown",
   "metadata": {},
   "source": [
    "### Part 1"
   ]
  },
  {
   "cell_type": "code",
   "execution_count": 3,
   "metadata": {
    "collapsed": true,
    "jupyter": {
     "outputs_hidden": true
    }
   },
   "outputs": [
    {
     "data": {
      "text/plain": [
       "['FFBFFFBLLL',\n",
       " 'BFBFBBFRLR',\n",
       " 'FFFBFFBLLL',\n",
       " 'FFBFBBBRRL',\n",
       " 'BFFFBBFLRR',\n",
       " 'BFBFBFBLLL',\n",
       " 'BFFFBFFLLL',\n",
       " 'FFFFFBFLLR',\n",
       " 'FBFBFFBRLL',\n",
       " 'BBFFBFBLRL',\n",
       " 'FFFBBBBLRL',\n",
       " 'BFFFFFFRLL',\n",
       " 'FBBBBFFRLL',\n",
       " 'FBFBFBFLLL',\n",
       " 'BBFFBFFLRR',\n",
       " 'BFBBFFBLRL',\n",
       " 'FBFFFBBLLR',\n",
       " 'BFFFFFBLRL',\n",
       " 'BBFBFBBLLL',\n",
       " 'FFFBBBBLRR',\n",
       " 'FBFFBFFLRR',\n",
       " 'BFFBFBFLRL',\n",
       " 'BFBBFFFLRR',\n",
       " 'FBFFBBBRLR',\n",
       " 'FBFFBBBRRR',\n",
       " 'BBFBFBFLRR',\n",
       " 'BFFBBFFLLL',\n",
       " 'BFFBBFBRRL',\n",
       " 'FFFBFFBLRR',\n",
       " 'FBBBBBBLLL',\n",
       " 'FFBFFFFRRL',\n",
       " 'BBFBFBBRLR',\n",
       " 'BFFBFFFLRR',\n",
       " 'BBFFFFBLRL',\n",
       " 'BBFFBFBLLL',\n",
       " 'BBFFFFFRLR',\n",
       " 'BFBFBBFLRL',\n",
       " 'FFFBFFBRLR',\n",
       " 'FFFFBFFLLL',\n",
       " 'FFBBFBFRLL',\n",
       " 'BFFBBFBRLL',\n",
       " 'BFFFBFFRLL',\n",
       " 'BFFFBBFRLR',\n",
       " 'BFFFFFBRRR',\n",
       " 'BFBBBFFRRL',\n",
       " 'FFBFBFFRRL',\n",
       " 'FBBFBBBRRR',\n",
       " 'FFFBBBBRLR',\n",
       " 'FBFBFBFRLR',\n",
       " 'FFBFFFFLLL',\n",
       " 'FBBFFFBLRR',\n",
       " 'BFBFFBBLLR',\n",
       " 'FBFFBBBRLL',\n",
       " 'FBFFBBFRRL',\n",
       " 'FBBBFFBLRL',\n",
       " 'BBFBFBFLLL',\n",
       " 'BFFBFBBLLL',\n",
       " 'BBFFBFBRRR',\n",
       " 'FFBBFFFLRL',\n",
       " 'BFFBBBBLRL',\n",
       " 'FFFBBFFLRL',\n",
       " 'FFBBBBBLRR',\n",
       " 'FBFFFBBRLR',\n",
       " 'BBFBFFFRLL',\n",
       " 'FFBFFBFLRL',\n",
       " 'FFBFBFFLLR',\n",
       " 'FBBBBFBRRR',\n",
       " 'FBFBFBFRRR',\n",
       " 'FBBFBBBLRL',\n",
       " 'BBFFFBBLRL',\n",
       " 'BFFBFBBLLR',\n",
       " 'FBFBBFFLRR',\n",
       " 'FFBBFFFRLR',\n",
       " 'FFFFBBFLLR',\n",
       " 'FBFFBFBRRR',\n",
       " 'FFFBFFFRLR',\n",
       " 'FBFFBFBLRL',\n",
       " 'FBBFFFFRRR',\n",
       " 'BFFFBFBLLR',\n",
       " 'FFFBBFFRLL',\n",
       " 'FFBFBFBLLL',\n",
       " 'FFBFBBFRLL',\n",
       " 'BFFBBBBRRR',\n",
       " 'BFFBFFFLRL',\n",
       " 'FFFFFFBRRL',\n",
       " 'FFBBFBBRRR',\n",
       " 'FFBFBFFRLR',\n",
       " 'FBBFFBBLRR',\n",
       " 'BFFBFFBRLR',\n",
       " 'BBFBFFFLRL',\n",
       " 'BFBFBFFLRR',\n",
       " 'BFFBBFFRLL',\n",
       " 'FFBFBBFLLR',\n",
       " 'BBFBFFFLRR',\n",
       " 'FFFFBBBLRL',\n",
       " 'FFFBFBFRLR',\n",
       " 'BFBFFFBLRL',\n",
       " 'BFFFBBFLRL',\n",
       " 'FFFFBFFRRL',\n",
       " 'BFBBBFBRLL',\n",
       " 'BFBBBFFRRR',\n",
       " 'BFFFBFBLRL',\n",
       " 'BFFBFFBRRL',\n",
       " 'FBBBFBFLLL',\n",
       " 'FBBFBBBRLR',\n",
       " 'FFBBBFBRLR',\n",
       " 'FFFBBFBLLL',\n",
       " 'BFFFFFBRLL',\n",
       " 'FBFBFFBLRR',\n",
       " 'FBFFFBFLLR',\n",
       " 'FBBFFBFRRL',\n",
       " 'BFFFFFFRLR',\n",
       " 'FFBFBBBRLL',\n",
       " 'BFFFFFBLLR',\n",
       " 'FFFBFBBLRL',\n",
       " 'FBBBFFBLRR',\n",
       " 'FBBFFBFRLR',\n",
       " 'FBBFBBFRRR',\n",
       " 'FFBFFBFLLL',\n",
       " 'BFBBBFBLRL',\n",
       " 'FBFBBBBRRR',\n",
       " 'FBBBFBFRRL',\n",
       " 'FBBFBBBRRL',\n",
       " 'BBFBFFFRLR',\n",
       " 'BFBFBBBRLL',\n",
       " 'FFBBFFFLLR',\n",
       " 'FBFFFFFRRR',\n",
       " 'BFBBFFBRRR',\n",
       " 'FBBBBFBLRL',\n",
       " 'BFBBBFBLLR',\n",
       " 'FBFBFBFLRR',\n",
       " 'FBBBFBBLLR',\n",
       " 'BFFFBFFRRR',\n",
       " 'BBFBFBFRLR',\n",
       " 'BBFFBFBRRL',\n",
       " 'FFBBBFFRRL',\n",
       " 'FBFFBFBLRR',\n",
       " 'BBFFBBBRLL',\n",
       " 'FBFFBFFLLR',\n",
       " 'FFFBFBFLLL',\n",
       " 'FFBBBFBLLL',\n",
       " 'BFBFFBFRRR',\n",
       " 'FBFBBFBLLR',\n",
       " 'BBFFFFFLLR',\n",
       " 'BBFBBFFRLL',\n",
       " 'FFFFBFBLLR',\n",
       " 'BBFFBBBLRL',\n",
       " 'FBBFFFBRLR',\n",
       " 'BFFFFBFLRL',\n",
       " 'FFBBFFBRRR',\n",
       " 'BBFFFBFLLR',\n",
       " 'BBFFFBBRRR',\n",
       " 'FBBFFBFRLL',\n",
       " 'BFFBFFBLRR',\n",
       " 'FFFBBFBRLL',\n",
       " 'FBBFFBBRLL',\n",
       " 'BFFFBFBRRR',\n",
       " 'FBFBFFFLRL',\n",
       " 'BFBBFBBRRR',\n",
       " 'FBBBFFBLLL',\n",
       " 'FBBFFBFRRR',\n",
       " 'FBFBFFFRRR',\n",
       " 'FBFFFFFRLR',\n",
       " 'FBBBFBBLLL',\n",
       " 'FFFFBFFLRR',\n",
       " 'BBFFFFBLLR',\n",
       " 'FFBFBBFLRL',\n",
       " 'FBFFFFFLRR',\n",
       " 'BFFBBFBLLL',\n",
       " 'FFBBFFFLRR',\n",
       " 'BFFFFFFLRL',\n",
       " 'BFBFBBBLRL',\n",
       " 'BBFBFFBRLL',\n",
       " 'FFBFBFBRLL',\n",
       " 'FFFFBBBLLL',\n",
       " 'FFBBBFFLRR',\n",
       " 'BFFBBBBLLR',\n",
       " 'FFFBFFBLRL',\n",
       " 'FBBBFBFRLR',\n",
       " 'FFBBFBFLLL',\n",
       " 'BBFFFBBLRR',\n",
       " 'BFBBFFFRRL',\n",
       " 'FFBBFFFRRL',\n",
       " 'BFBBFFFLRL',\n",
       " 'FBBFFFFLLL',\n",
       " 'BBFFFFBRRL',\n",
       " 'FFBFBFFLRL',\n",
       " 'FFBBFFBLLR',\n",
       " 'BFFFFBFRLR',\n",
       " 'BBFFBBBRLR',\n",
       " 'FBFBBBFRRR',\n",
       " 'FBFBFFFRRL',\n",
       " 'BBFBBFFRLR',\n",
       " 'FBFBBBFLLR',\n",
       " 'BFBFBBBRLR',\n",
       " 'BFBBBBFLRR',\n",
       " 'BFBBBBBLRL',\n",
       " 'FBFFFFFRLL',\n",
       " 'BFBBFBBLLR',\n",
       " 'BFFBFFBLRL',\n",
       " 'FBBFBBFRLR',\n",
       " 'FBBBFFBRRL',\n",
       " 'BFFFFFBLRR',\n",
       " 'BBFFFBFRRR',\n",
       " 'BFBFFFFLRR',\n",
       " 'BFBFBFFRRL',\n",
       " 'BFBBBFBRRL',\n",
       " 'FFFFFBFLLL',\n",
       " 'FBBFFBFLLR',\n",
       " 'FFBFBFBLLR',\n",
       " 'FBFFBBFLLL',\n",
       " 'BFFBFFFLLL',\n",
       " 'FFBFBFBRRR',\n",
       " 'FBBFBFBLRL',\n",
       " 'FBFFFFFRRL',\n",
       " 'FFFBBFBRLR',\n",
       " 'BBFBFFBLLL',\n",
       " 'FFBFFFBLRL',\n",
       " 'FFBBBBFLRL',\n",
       " 'FFBFFBFRRL',\n",
       " 'FBFFFFBLRR',\n",
       " 'FBBBBBBRRR',\n",
       " 'FFFFFBBLLL',\n",
       " 'FBFBFBBLRR',\n",
       " 'FBFFBBBRRL',\n",
       " 'FFBFBBBLRR',\n",
       " 'BFBFFBBRRL',\n",
       " 'BFBFFFBRLL',\n",
       " 'FFBBBFFRRR',\n",
       " 'BFFFFBBRRR',\n",
       " 'FFFBBBBLLR',\n",
       " 'BFBFBFBRRR',\n",
       " 'FFFBBFFLRR',\n",
       " 'FFFBFBFRRR',\n",
       " 'FBBBBFFLLL',\n",
       " 'BBFBFBBLRR',\n",
       " 'BBFBFBFRRL',\n",
       " 'BBFFFBBRLL',\n",
       " 'FBBBBFBLRR',\n",
       " 'FBBFBBBLLL',\n",
       " 'FFBBBFBLRL',\n",
       " 'FBBFBFFRRL',\n",
       " 'FBFFFFBRRL',\n",
       " 'BFFFFFFLRR',\n",
       " 'BBFFFBFLLL',\n",
       " 'FFFFBBFRLR',\n",
       " 'FBFFBFFLLL',\n",
       " 'FFBFBFBLRR',\n",
       " 'FFBBBFBLRR',\n",
       " 'FFFFBFBLRR',\n",
       " 'BBFBFFBLRR',\n",
       " 'BBFFFFFRRR',\n",
       " 'FBBBFFBRLL',\n",
       " 'FBBFBBFRRL',\n",
       " 'FFBFBBBRRR',\n",
       " 'BFFBFBBRLR',\n",
       " 'FFFBFFFRRL',\n",
       " 'BFBFFFFRLR',\n",
       " 'FFBFFFFRLL',\n",
       " 'FBFBBFFRLL',\n",
       " 'FBFBBBBLLL',\n",
       " 'BBFFBBFRRL',\n",
       " 'FFFFFBBLRR',\n",
       " 'FFBBFBBLLL',\n",
       " 'FFFBBBBRLL',\n",
       " 'FFFBFBBRLL',\n",
       " 'BFBFFBFRLR',\n",
       " 'FBBBFBBRLR',\n",
       " 'FFFBFBFLRR',\n",
       " 'BFFFBBBRLR',\n",
       " 'FFBBFBBLRR',\n",
       " 'FFBFBBFRLR',\n",
       " 'FFFFFBFRLL',\n",
       " 'FBBFBFFLLR',\n",
       " 'FFFFBFBRLL',\n",
       " 'BFFBBFFLLR',\n",
       " 'BFBBBBBLRR',\n",
       " 'FBFBBFBRRL',\n",
       " 'FBFBBFFRRL',\n",
       " 'BBFFBBBLLL',\n",
       " 'BFFBBBBRRL',\n",
       " 'FBBBFBBRRL',\n",
       " 'BBFBBFFRRL',\n",
       " 'FBBFBFBRRL',\n",
       " 'FBFFBFFRRR',\n",
       " 'FFFFBBBRRL',\n",
       " 'FFFBBBBRRL',\n",
       " 'BFBBFFFRRR',\n",
       " 'FBBBFBBRLL',\n",
       " 'FFBFFBFRRR',\n",
       " 'FFFFBFBLLL',\n",
       " 'FFBFFBBLLR',\n",
       " 'FBBBFBFLRL',\n",
       " 'FFFFBBFRLL',\n",
       " 'BFFFFBFLLL',\n",
       " 'FFBBFBFLRL',\n",
       " 'FBFBFBBRLL',\n",
       " 'FFBBBFFLLR',\n",
       " 'FFFBFFBRRR',\n",
       " 'FBFFBBBLLR',\n",
       " 'FFFBBFBLLR',\n",
       " 'BFBBBFFLLL',\n",
       " 'FFFFBFBRRL',\n",
       " 'BFFFBBBLRR',\n",
       " 'FFFBBBBRRR',\n",
       " 'BBFBFBBLRL',\n",
       " 'FBFFBFFRLL',\n",
       " 'FBFBBBBRRL',\n",
       " 'FBBBBBBRLR',\n",
       " 'FFFBFBFLLR',\n",
       " 'FFFFBBFRRR',\n",
       " 'BFBFBFBRRL',\n",
       " 'FFFBFFBRLL',\n",
       " 'FFBBBBFRRR',\n",
       " 'BFFBBBFRRL',\n",
       " 'FBBFFBBRRR',\n",
       " 'FBFFBBFLRR',\n",
       " 'FBFFFFBLRL',\n",
       " 'FBBBFBBLRR',\n",
       " 'BBFBFBBRRL',\n",
       " 'FBBBFFBLLR',\n",
       " 'FBFBBBFRRL',\n",
       " 'BFFFBFBRLL',\n",
       " 'BFFBBFFRRL',\n",
       " 'FFBBBBFLRR',\n",
       " 'FFBBFBBLRL',\n",
       " 'FFBFFFFLRR',\n",
       " 'FBBFBFFRLL',\n",
       " 'FFBBBBFLLL',\n",
       " 'FFBFFFBRRL',\n",
       " 'BFFBFFFLLR',\n",
       " 'BBFFFBBRLR',\n",
       " 'FFBFBFFRLL',\n",
       " 'FBFBFBBRRL',\n",
       " 'FBBBFBBLRL',\n",
       " 'FBFBFFBRLR',\n",
       " 'FBFFBBFRRR',\n",
       " 'FBFBFBBLLR',\n",
       " 'FBBBBBFLRL',\n",
       " 'FBFBBFFRRR',\n",
       " 'FBFFBBBLRR',\n",
       " 'BFFBBFFLRL',\n",
       " 'FBFBFFBRRR',\n",
       " 'FFFFBFBRRR',\n",
       " 'BFBFBFBLLR',\n",
       " 'BFFFFFBRLR',\n",
       " 'BFBBBBBLLL',\n",
       " 'FFBBFBFLRR',\n",
       " 'BFBBBFFLRR',\n",
       " 'FFBBBFFLLL',\n",
       " 'FBBFFFFLRL',\n",
       " 'BFBFBFFRLR',\n",
       " 'FFFBFBBRRL',\n",
       " 'FBFFBBBLRL',\n",
       " 'FBFBFBBRRR',\n",
       " 'FBFFFBFLLL',\n",
       " 'BFFBFFFRRL',\n",
       " 'BFFBBBBRLR',\n",
       " 'FFFFFBFRRR',\n",
       " 'FBBBFFFLRL',\n",
       " 'BFFFBFBRRL',\n",
       " 'FFFBBBFLLL',\n",
       " 'FFBFFFBLRR',\n",
       " 'FBFBBFFLLL',\n",
       " 'FBBBBFBRLR',\n",
       " 'FFFBFFBLLR',\n",
       " 'FFBFFBBRLR',\n",
       " 'BFFFBBFRRR',\n",
       " 'BBFFFFFLRL',\n",
       " 'FBFFFFBRLR',\n",
       " 'BFBFBBBLLL',\n",
       " 'FBFBFBFLLR',\n",
       " 'BFFFFFBLLL',\n",
       " 'BFFBFBFRLL',\n",
       " 'BFFBFBBRRR',\n",
       " 'BFBBFBBRRL',\n",
       " 'BBFBBFBRRL',\n",
       " 'BFBBFFBRLL',\n",
       " 'BBFBFBBRLL',\n",
       " 'FFBFFFFLRL',\n",
       " 'FFBBFBFRLR',\n",
       " 'FBBFFFFRRL',\n",
       " 'BFFFFFFRRR',\n",
       " 'FBBFFBFLLL',\n",
       " 'BFFBBFBLRR',\n",
       " 'FBFBFFBLRL',\n",
       " 'BFBFFFBRLR',\n",
       " 'BFBFFBFLLL',\n",
       " 'FFBBBFBRRL',\n",
       " 'BFFFBFFLLR',\n",
       " 'FBFBFBBLLL',\n",
       " 'BBFFFBBLLR',\n",
       " 'BFBFFBFLRR',\n",
       " 'FBFFFBBLRL',\n",
       " 'FBFBBBFRLR',\n",
       " 'BFFFBFFRLR',\n",
       " 'BBFFBBFRLR',\n",
       " 'FBBFBBFLLR',\n",
       " 'BFFFBBFLLR',\n",
       " 'FFBFFFBLLR',\n",
       " 'FBBBBBFRRR',\n",
       " 'FFFBFFFLLL',\n",
       " 'BFBFFFBRRL',\n",
       " 'BFBBBBFRLL',\n",
       " 'FFBFBBBLLR',\n",
       " 'BFBBFBFLLR',\n",
       " 'FBFFBBFLRL',\n",
       " 'FFFBFFFLLR',\n",
       " 'BFBFBFBLRL',\n",
       " 'BBFFBBBRRR',\n",
       " 'FBFBBFBRLL',\n",
       " 'FFFFBFFRLR',\n",
       " 'FBFFBBFRLL',\n",
       " 'FBFFFBFLRR',\n",
       " 'FBBFFFBLRL',\n",
       " 'FBBBBBFLLR',\n",
       " 'FFFBFBBLLR',\n",
       " 'BBFFFFBRRR',\n",
       " 'BFBFFBBRRR',\n",
       " 'BFFBFBBRRL',\n",
       " 'BBFFBBFRLL',\n",
       " 'BFFFFBFRRL',\n",
       " 'BFFFBBBRRL',\n",
       " 'FFBBFFFLLL',\n",
       " 'FFFFBBBLLR',\n",
       " 'BBFFBBFLLR',\n",
       " 'FFFBFBBRRR',\n",
       " 'BBFFFBFRRL',\n",
       " 'FFBBBBFRLR',\n",
       " 'FBBFFFBRRR',\n",
       " 'BFFFBFBLLL',\n",
       " 'FFBFBFBLRL',\n",
       " 'FBFFFFBLLR',\n",
       " 'BBFBFFBRRL',\n",
       " 'BFBBBFFRLL',\n",
       " 'FBFBFFFLRR',\n",
       " 'FBFBFFFLLR',\n",
       " 'BFBFBBBRRL',\n",
       " 'FBFFFFFLLR',\n",
       " 'BFBFFFFLRL',\n",
       " 'FBBFBBBRLL',\n",
       " 'BFBFBFFLLL',\n",
       " 'BFBBFBBLRL',\n",
       " 'FBFFFBBLLL',\n",
       " 'BFFFFFFLLL',\n",
       " 'BBFBFFBLLR',\n",
       " 'FFBFBBBLLL',\n",
       " 'FBBBBBBRLL',\n",
       " 'BFFFBBBLLR',\n",
       " 'FBFBBBBLRR',\n",
       " 'FBBFFFBLLL',\n",
       " 'FFFBFBFRRL',\n",
       " 'FFFFBBFRRL',\n",
       " 'FBFFFBFRRL',\n",
       " 'BBFFFBFRLR',\n",
       " 'FFFBBFFLLL',\n",
       " 'FFFFBFFLRL',\n",
       " 'FBFBBBBLLR',\n",
       " 'FBBBFFFRRR',\n",
       " 'FFFBBBFLRR',\n",
       " 'BFBFBBFRRR',\n",
       " 'BBFBFFBRLR',\n",
       " 'BBFBBFBRLL',\n",
       " 'BFFBBFBLRL',\n",
       " 'FBFBFBFRRL',\n",
       " 'BFFFFFFRRL',\n",
       " 'BBFFFFBRLL',\n",
       " 'BFFBBFBLLR',\n",
       " 'BFFBFBFLRR',\n",
       " 'FBFBFBBRLR',\n",
       " 'BFBFFBBLRL',\n",
       " 'FFFBBBFLRL',\n",
       " 'FBBBFFFLRR',\n",
       " 'BBFFFFFRRL',\n",
       " 'FFFBFBBLRR',\n",
       " 'FFBFFBBRLL',\n",
       " 'FFBBBBBLLR',\n",
       " 'BFBBFBBLLL',\n",
       " 'BBFBFFBRRR',\n",
       " 'FBFFFFBRRR',\n",
       " 'FFBBBBBRRR',\n",
       " 'FBFBBFBLRL',\n",
       " 'FFFBBBFRLR',\n",
       " 'BBFFBFFLLR',\n",
       " 'FFFFFBBRLL',\n",
       " 'BFFFFFBRRL',\n",
       " 'FBBBFFFRLL',\n",
       " 'FFBBBFBRRR',\n",
       " 'BBFFFBBRRL',\n",
       " 'FFFBFFFRRR',\n",
       " 'FFFBBBBLLL',\n",
       " 'BFBFFBFLRL',\n",
       " 'BFBBBBFRLR',\n",
       " 'FBBFBFBLRR',\n",
       " 'BFBFFFBLRR',\n",
       " 'FBBBBFFRRR',\n",
       " 'BFBFBFFRRR',\n",
       " 'BBFBFBFRRR',\n",
       " 'FBBFBFBLLR',\n",
       " 'FFFBBFBRRL',\n",
       " 'BFFBFFBLLR',\n",
       " 'BFBFFFFRRR',\n",
       " 'FBFFBFFRLR',\n",
       " 'FBFFFBBRLL',\n",
       " 'FBFFBFFRRL',\n",
       " 'FBFBFFBLLR',\n",
       " 'FFFBBFFRRL',\n",
       " 'FBFBFFFLLL',\n",
       " 'BFFBFBFLLR',\n",
       " 'FBBFBBFLRR',\n",
       " 'BBFFFFBRLR',\n",
       " 'BFFFBFFLRL',\n",
       " 'FBBFBFFLRL',\n",
       " 'FFBFFFFRLR',\n",
       " 'FFBFFFFLLR',\n",
       " 'FBBFBFBRLR',\n",
       " 'FFFFBBFLRL',\n",
       " 'FFFFBBFLLL',\n",
       " 'FFFFBBBRLR',\n",
       " 'BFBFBFFLRL',\n",
       " 'BFBBFFBRLR',\n",
       " 'FBFFFFBRLL',\n",
       " 'BFFFBBFRLL',\n",
       " 'FBFBFBFRLL',\n",
       " 'FFFBBFBLRR',\n",
       " 'FFBFBBBLRL',\n",
       " 'BFFBFFFRLL',\n",
       " 'BFBBFFBLLR',\n",
       " 'BBFFBFBLRR',\n",
       " 'BFFBBBFLRL',\n",
       " 'FBBFFFFLRR',\n",
       " 'BFBBBBBLLR',\n",
       " 'FFFFFBBLRL',\n",
       " 'FFBBBBBRLR',\n",
       " 'FFFFFBBRRR',\n",
       " 'BFBBBBBRLL',\n",
       " 'FBBBBBBLRL',\n",
       " 'BBFFBBBRRL',\n",
       " 'BFBBFBFLLL',\n",
       " 'BBFFFBFRLL',\n",
       " 'FFFBBFFRLR',\n",
       " 'FFFBFFBRRL',\n",
       " 'BFFFFBFRLL',\n",
       " 'BFFBBFFRRR',\n",
       " 'BFFFBBFRRL',\n",
       " 'FBBFFFFRLR',\n",
       " 'BFFBFFBRRR',\n",
       " 'BFBBFFBRRL',\n",
       " 'BFFFBFBLRR',\n",
       " 'BFFBBBBLRR',\n",
       " 'FBBBFBFLRR',\n",
       " 'BFBBBFBRLR',\n",
       " 'FFBBBFFLRL',\n",
       " 'FFFFBFFLLR',\n",
       " 'FBBFFBBRLR',\n",
       " 'BFFBFFBLLL',\n",
       " 'FBBBBFFLLR',\n",
       " 'FBBFBFBLLL',\n",
       " 'BFBFFFFLLL',\n",
       " 'FBBBFBFRRR',\n",
       " 'FBFFFBFRLL',\n",
       " 'FFBBBBBLLL',\n",
       " 'BBFBBFFLLR',\n",
       " 'FFBFBBBRLR',\n",
       " 'BBFBFFFLLL',\n",
       " 'FFFFFBBRRL',\n",
       " 'BFFBBBFLLL',\n",
       " 'BFFBFFFRLR',\n",
       " 'FFBBBBFRRL',\n",
       " 'BFBBBBBRLR',\n",
       " 'BFFBFBFLLL',\n",
       " 'BFFBBFFLRR',\n",
       " 'FBBFBBFRLL',\n",
       " 'BFBFBBFLLR',\n",
       " 'FBFFFBFRRR',\n",
       " 'FBFBBBFLRL',\n",
       " 'BFFBFBBLRL',\n",
       " 'BBFBBFBLRR',\n",
       " 'BBFBFFBLRL',\n",
       " 'BBFBFBBRRR',\n",
       " 'FBBBBFBRLL',\n",
       " 'FBFBFBBLRL',\n",
       " 'BBFBFBFLLR',\n",
       " 'FBFFBFBRLR',\n",
       " 'FFBBFFBLRR',\n",
       " 'FFFBFBFLRL',\n",
       " 'BFFBFBBRLL',\n",
       " 'FBBBBFFLRR',\n",
       " 'BFBBFFFLLR',\n",
       " 'BFBFFBFRLL',\n",
       " 'BBFBBFBLLL',\n",
       " 'FBBBBFFLRL',\n",
       " 'FBFBFFBLLL',\n",
       " 'BFFBBFFRLR',\n",
       " 'FBBFFFBLLR',\n",
       " 'BFFBFBFRLR',\n",
       " 'FBBFFBFLRL',\n",
       " 'FFBFFBFRLL',\n",
       " 'BFFFBFFRRL',\n",
       " 'BFBBFBFRRR',\n",
       " 'FFBBBFFRLL',\n",
       " 'FBBBBBFLLL',\n",
       " 'BFBBFFBLRR',\n",
       " 'FFFFFBBLLR',\n",
       " 'FFFFFFBRLR',\n",
       " 'FBBFBBFLRL',\n",
       " 'BFBFBBFLRR',\n",
       " 'BBFFBBBLRR',\n",
       " 'FFFFFBFRRL',\n",
       " 'BFFFFBFRRR',\n",
       " 'BFFFBFBRLR',\n",
       " 'BFFFFBBLLR',\n",
       " 'FBBBFBFRLL',\n",
       " 'BFFFBBFLLL',\n",
       " 'BFBBBFFLLR',\n",
       " 'BBFFBFFRLR',\n",
       " 'FBFBFBFLRL',\n",
       " 'FFBBFFBLRL',\n",
       " 'BFBBBFBLLL',\n",
       " 'FFFFBFBRLR',\n",
       " 'FBFBFFBRRL',\n",
       " 'BFFFFBFLRR',\n",
       " 'BFFBBBFRLR',\n",
       " 'FFFFBBBRLL',\n",
       " 'FBBBBFFRLR',\n",
       " 'BFBFBFFRLL',\n",
       " 'FBBBBBFRLL',\n",
       " 'BFBFFFBRRR',\n",
       " 'FBBBBBFRLR',\n",
       " 'BFFBFFFRRR',\n",
       " 'FFBBFFBRRL',\n",
       " 'BFBBBBFLRL',\n",
       " 'FFFBBBFRRL',\n",
       " 'FFFFBFFRRR',\n",
       " 'FFFBBFBRRR',\n",
       " 'BBFBFFFLLR',\n",
       " 'BFBBFBBRLL',\n",
       " 'BFFFFBBLRR',\n",
       " 'BBFFFBBLLL',\n",
       " 'FFFBBBFRRR',\n",
       " 'FFBFBBFRRL',\n",
       " 'FBFBBBFLRR',\n",
       " 'FBFFBFBLLL',\n",
       " 'BFFBFBBLRR',\n",
       " 'FFBFFFBRLL',\n",
       " 'FBBBBFFRRL',\n",
       " 'BBFBFFFRRL',\n",
       " 'FFBFFBFLRR',\n",
       " 'BFFBBFBRLR',\n",
       " 'FFBBBFBLLR',\n",
       " 'FBBFBFFRLR',\n",
       " 'BBFBBFBRLR',\n",
       " 'BFFBFFBRLL',\n",
       " 'FFBFFFFRRR',\n",
       " 'BBFFFFFLRR',\n",
       " 'FFBFBFBRRL',\n",
       " 'BBFFBFBRLR',\n",
       " 'FBBBBFBLLL',\n",
       " 'FBBFFBBLLL',\n",
       " 'FFBFFBBLLL',\n",
       " 'BFBFBBFRRL',\n",
       " 'FBFFFBBLRR',\n",
       " 'FBFFBFFLRL',\n",
       " 'BFBBBFFLRL',\n",
       " 'FBFBBFBLRR',\n",
       " 'FBFBBBFLLL',\n",
       " 'FFBBFBBLLR',\n",
       " 'FFFFBFFRLL',\n",
       " 'BBFFFFFLLL',\n",
       " 'FFBBFBFRRL',\n",
       " 'BFFFBFFLRR',\n",
       " 'FFBFBBFLRR',\n",
       " 'FBBFBFBRLL',\n",
       " 'BFFBBFBRRR',\n",
       " 'FBFBBFFLLR',\n",
       " 'BFBBBFFRLR',\n",
       " 'BBFFBFFRRL',\n",
       " 'BBFFBBFRRR',\n",
       " 'BFBBFFBLLL',\n",
       " 'BFBFBFBRLR',\n",
       " 'FBFFFBFRLR',\n",
       " 'FBFBBFBRLR',\n",
       " 'FFBBBBBLRL',\n",
       " 'BFFFBBBLLL',\n",
       " 'FBFFBFBRLL',\n",
       " 'FBFFFBBRRL',\n",
       " 'BBFBBFFLLL',\n",
       " 'BBFFBFBLLR',\n",
       " 'FBFBBFBRRR',\n",
       " 'FBFBBBBRLR',\n",
       " 'FBFBBFFRLR',\n",
       " 'BFFBBBFLRR',\n",
       " 'FBBBFFBRLR',\n",
       " 'BFBBBBFLLL',\n",
       " 'FFFBFBFRLL',\n",
       " 'BBFBFBBLLR',\n",
       " 'FFBFFBBLRL',\n",
       " 'FBBBFFFRLR',\n",
       " 'FFBBFBBRRL',\n",
       " 'BFBFBBBLRR',\n",
       " 'BBFBBFFRRR',\n",
       " 'FBBBBBFLRR',\n",
       " 'BBFBFBFLRL',\n",
       " 'BFFFFBFLLR',\n",
       " 'FBFBFFFRLR',\n",
       " 'FBBBBFBRRL',\n",
       " 'BFBFFFFLLR',\n",
       " 'FFBFBFFLRR',\n",
       " 'BFBFFFBLLR',\n",
       " 'FFBFBBFLLL',\n",
       " 'BBFBBFFLRR',\n",
       " 'BBFFFBFLRR',\n",
       " 'BFBBFFFRLL',\n",
       " 'FFFFBBBLRR',\n",
       " 'BFBFBBFRLL',\n",
       " 'BFBFFBBRLL',\n",
       " 'FFBBBBBRLL',\n",
       " 'BBFFBFFLLL',\n",
       " 'BFBBBBFRRL',\n",
       " 'FBBBFFFLLL',\n",
       " 'FFBFBFFRRR',\n",
       " 'BFBFFBBRLR',\n",
       " 'FFFFBFBLRL',\n",
       " 'FBFFFBBRRR',\n",
       " 'BFBFFBFRRL',\n",
       " 'BFBBFBFRLR',\n",
       " 'FBFBBBBRLL',\n",
       " 'FFBBFFFRRR',\n",
       " 'BFBFFFBLLL',\n",
       " 'FFFBBFFLLR',\n",
       " 'FFBFBFBRLR',\n",
       " 'FBBBBBBRRL',\n",
       " 'FFBBFBBRLL',\n",
       " 'FFBFFFBRLR',\n",
       " 'FBBFFFBRLL',\n",
       " 'FBBBFBBRRR',\n",
       " 'BFFFBBBRLL',\n",
       " 'FBBBFBFLLR',\n",
       " 'BBFFBFFLRL',\n",
       " 'FBBFBBBLLR',\n",
       " 'FBBBBBBLRR',\n",
       " 'BFBBBBBRRR',\n",
       " 'BFBFBBBRRR',\n",
       " 'BFBBFFFLLL',\n",
       " 'FFBBFFBRLL',\n",
       " 'BBFBBFBLLR',\n",
       " 'FBFFBBFLLR',\n",
       " 'FFFFFBFRLR',\n",
       " 'BBFFFBFLRL',\n",
       " 'FBBFFBFLRR',\n",
       " 'FFBFFBFRLR',\n",
       " 'FBFFBFBLLR',\n",
       " 'FFFBFBBLLL',\n",
       " 'BBFFBBFLRR',\n",
       " 'BBFFBFFRLL',\n",
       " 'FBBFBFFLLL',\n",
       " 'BFFFFBBRLL',\n",
       " 'FFBBFFBLLL',\n",
       " 'FFBFFBBRRL',\n",
       " 'BFFBBBFRRR',\n",
       " 'FBBFBFFRRR',\n",
       " 'BFFBBBBLLL',\n",
       " 'FFBBFBBRLR',\n",
       " 'FFBBFFBRLR',\n",
       " 'BFFFFBBRRL',\n",
       " 'FFBBBBBRRL',\n",
       " 'FBFFBFBRRL',\n",
       " 'BFFBFBFRRL',\n",
       " 'BBFBBBFLLL',\n",
       " 'FBBFFBBLRL',\n",
       " 'BFBFBFBRLL',\n",
       " 'FBFFFFFLRL',\n",
       " 'FFFBFFFLRR',\n",
       " 'FBBFBBBLRR',\n",
       " 'FFFFFBFLRR',\n",
       " 'FBBBBFBLLR',\n",
       " 'BFFBFBFRRR',\n",
       " 'BFFFFBBLLL',\n",
       " 'FFFFBBFLRR',\n",
       " 'BFBBFBFLRR',\n",
       " 'FFBFFBBLRR',\n",
       " 'BBFFFFFRLL',\n",
       " 'BFBFBFFLLR',\n",
       " 'BBFBFBFRLL',\n",
       " 'BBFFBBFLLL',\n",
       " 'FBFBBBFRLL',\n",
       " 'FBBFBBFLLL',\n",
       " 'BFBBFFFRLR',\n",
       " 'BFBFFBBLLL',\n",
       " 'FBBBBBFRRL',\n",
       " 'FFBBFBFRRR',\n",
       " 'FBFFFFBLLL',\n",
       " 'FFFFFBBRLR',\n",
       " 'BFBBFBBRLR',\n",
       " 'BFBBBBFLLR',\n",
       " 'BFFBBBFLLR',\n",
       " 'FFBBFBFLLR',\n",
       " 'FFBBBFBRLL',\n",
       " 'FFFFBBBRRR',\n",
       " 'FBBFFFFRLL',\n",
       " 'FFBFFFBRRR',\n",
       " 'FBBFBFBRRR',\n",
       " 'FFBBBFFRLR',\n",
       " 'BFBFFFFRLL',\n",
       " 'FBFFFBFLRL',\n",
       " 'FFBFFBBRRR',\n",
       " 'FBFBBFBLLL',\n",
       " 'BFBFBBFLLL',\n",
       " 'FFBBBBFLLR',\n",
       " 'FBFBBBBLRL',\n",
       " 'BFBBFBFLRL',\n",
       " 'BFFFBBBLRL',\n",
       " 'BFBBBBFRRR',\n",
       " 'FFFBBBFRLL',\n",
       " 'FFBFBFFLLL',\n",
       " 'BFBFFFFRRL',\n",
       " 'FFFBFBBRLR',\n",
       " 'BFBFBFBLRR',\n",
       " 'FBFFBBFRLR',\n",
       " 'BBFFFFBLLL',\n",
       " 'BFFBBBBRLL',\n",
       " 'BFFFFBBLRL',\n",
       " 'BBFBBFBRRR',\n",
       " 'BFFFFFFLLR',\n",
       " 'BBFFBBBLLR',\n",
       " 'FBBFFFFLLR',\n",
       " 'BBFFBFBRLL',\n",
       " 'FBBBFFBRRR',\n",
       " 'FBBFFBBLLR',\n",
       " 'BBFFFFBLRR',\n",
       " 'FBFFFFFLLL',\n",
       " 'FBBFBFFLRR',\n",
       " 'BFBBFBFRLL',\n",
       " 'BFBBBFBRRR',\n",
       " 'FFBFBBFRRR',\n",
       " 'FBFBFFFRLL',\n",
       " 'FFFBBFFRRR',\n",
       " 'FFFFFBFLRL',\n",
       " 'BFBFFBFLLR',\n",
       " 'FBBBFFFRRL',\n",
       " 'FBBBBBBLLR',\n",
       " 'FBBFFFBRRL',\n",
       " 'FFBBFFFRLL',\n",
       " 'BBFBFFFRRR',\n",
       " 'FFFBBFBLRL',\n",
       " 'BFFBBBFRLL',\n",
       " 'FFFFFFBRRR',\n",
       " 'BFBFFBBLRR',\n",
       " 'BBFFBBFLRL',\n",
       " 'FFFBBBFLLR',\n",
       " 'BFBBBFBLRR',\n",
       " 'FBBFFBBRRL',\n",
       " 'FFBFFBFLLR',\n",
       " 'BBFBBFBLRL',\n",
       " 'FFFBFFFRLL',\n",
       " 'BFBFBBBLLR',\n",
       " 'FFFBFFFLRL',\n",
       " 'BFFFFBBRLR',\n",
       " 'BBFFBFFRRR',\n",
       " 'BFBBFBFRRL',\n",
       " 'BBFBBFFLRL',\n",
       " 'FFBBBBFRLL',\n",
       " 'FBFFBBBLLL',\n",
       " 'FBFBBFFLRL',\n",
       " 'BFFFBBBRRR',\n",
       " 'BFBBBBBRRL',\n",
       " 'FBBBFFFLLR']"
      ]
     },
     "execution_count": 3,
     "metadata": {},
     "output_type": "execute_result"
    }
   ],
   "source": [
    "d5 = aocd.get_data(day=5).split(\"\\n\")\n",
    "d5"
   ]
  },
  {
   "cell_type": "code",
   "execution_count": 33,
   "metadata": {},
   "outputs": [],
   "source": [
    "def get_seat_id(chars):\n",
    "    \n",
    "    row_min = 0\n",
    "    row_max = 127\n",
    "    row_range = row_max - row_min\n",
    "    col_min = 0\n",
    "    col_max = 7\n",
    "    col_range = col_max - col_min\n",
    "    fb = chars[:7]\n",
    "    lr = chars[7:]\n",
    "    for char in fb:\n",
    "        if char == \"F\":\n",
    "            row_max = row_min + row_range // 2\n",
    "        else:\n",
    "            row_min = row_max - row_range // 2\n",
    "        row_range = row_max - row_min\n",
    "    for char in lr:\n",
    "        if char == \"L\":\n",
    "            col_max = col_min + col_range // 2\n",
    "        else:\n",
    "            col_min = col_max - col_range // 2\n",
    "        col_range = col_max - col_min\n",
    "    seat_id = (row_max * 8) + col_max\n",
    "    return seat_id\n",
    "\n",
    "a1 = max(map(get_seat_id, d5))"
   ]
  },
  {
   "cell_type": "code",
   "execution_count": 34,
   "metadata": {},
   "outputs": [
    {
     "name": "stdout",
     "output_type": "stream",
     "text": [
      "That's the right answer!  You are one gold star closer to saving your vacation. [Continue to Part Two]\n"
     ]
    },
    {
     "data": {
      "text/plain": [
       "<Response [200]>"
      ]
     },
     "execution_count": 34,
     "metadata": {},
     "output_type": "execute_result"
    }
   ],
   "source": [
    "aocd.submit(a1, part='a', day=5, year=2020)"
   ]
  },
  {
   "cell_type": "markdown",
   "metadata": {},
   "source": [
    "### Part 2"
   ]
  },
  {
   "cell_type": "code",
   "execution_count": 38,
   "metadata": {},
   "outputs": [
    {
     "data": {
      "text/plain": [
       "[731]"
      ]
     },
     "execution_count": 38,
     "metadata": {},
     "output_type": "execute_result"
    }
   ],
   "source": [
    "ids = sorted(list(map(get_seat_id, d5)))\n",
    "possible_seats = list(range(min(ids), max(ids)+1))\n",
    "for id in ids:\n",
    "    possible_seats.remove(id)\n",
    "possible_seats"
   ]
  },
  {
   "cell_type": "code",
   "execution_count": 39,
   "metadata": {},
   "outputs": [
    {
     "name": "stdout",
     "output_type": "stream",
     "text": [
      "That's the right answer!  You are one gold star closer to saving your vacation.You have completed Day 5! You can [Shareon\n",
      "  Twitter\n",
      "Mastodon] this victory or [Return to Your Advent Calendar].\n"
     ]
    },
    {
     "data": {
      "text/plain": [
       "<Response [200]>"
      ]
     },
     "execution_count": 39,
     "metadata": {},
     "output_type": "execute_result"
    }
   ],
   "source": [
    "a2 = possible_seats[0]\n",
    "aocd.submit(a2, part='b', day=5, year=2020)"
   ]
  },
  {
   "cell_type": "markdown",
   "metadata": {},
   "source": [
    "# Day 6"
   ]
  },
  {
   "cell_type": "markdown",
   "metadata": {},
   "source": [
    "### Part 1"
   ]
  },
  {
   "cell_type": "code",
   "execution_count": 35,
   "metadata": {},
   "outputs": [
    {
     "data": {
      "text/plain": [
       "['elmcifawqgkp\\ndynwslejfcrkpv',\n",
       " 'pagrovuzscemqiy\\npaxomsgyuvc',\n",
       " 'hcoljgiraqvs\\nhgrvxqcojal\\narjhqclogv\\njlrvackhogq',\n",
       " 'bagctysnmhodfe\\ntfchsdoeagmnby\\ncsdhnotbfgayme',\n",
       " 'rksnmhbxi\\ndyhavkcjrp']"
      ]
     },
     "execution_count": 35,
     "metadata": {},
     "output_type": "execute_result"
    }
   ],
   "source": [
    "d6 = aocd.get_data(day=6).split(\"\\n\\n\")\n",
    "d6[:5]"
   ]
  },
  {
   "cell_type": "code",
   "execution_count": 10,
   "metadata": {},
   "outputs": [
    {
     "name": "stdout",
     "output_type": "stream",
     "text": [
      "That's the right answer!  You are one gold star closer to saving your vacation. [Continue to Part Two]\n"
     ]
    },
    {
     "data": {
      "text/plain": [
       "<Response [200]>"
      ]
     },
     "execution_count": 10,
     "metadata": {},
     "output_type": "execute_result"
    }
   ],
   "source": [
    "def count_group_yes(group):\n",
    "    return len(set(group.replace(\"\\n\",\"\")))\n",
    "\n",
    "a1 = sum(map(count_group_yes, d6))\n",
    "aocd.submit(a1, part='a', day=6, year=2020)"
   ]
  },
  {
   "cell_type": "markdown",
   "metadata": {},
   "source": [
    "### Part 2"
   ]
  },
  {
   "cell_type": "code",
   "execution_count": 51,
   "metadata": {},
   "outputs": [
    {
     "name": "stdout",
     "output_type": "stream",
     "text": [
      "That's the right answer!  You are one gold star closer to saving your vacation.You have completed Day 6! You can [Shareon\n",
      "  Twitter\n",
      "Mastodon] this victory or [Return to Your Advent Calendar].\n"
     ]
    },
    {
     "data": {
      "text/plain": [
       "<Response [200]>"
      ]
     },
     "execution_count": 51,
     "metadata": {},
     "output_type": "execute_result"
    }
   ],
   "source": [
    "def count_group_yes_all(group):\n",
    "    people = group.split(\"\\n\")\n",
    "    finalset = set(people[0])\n",
    "    for person in people[1:]:\n",
    "        finalset = finalset.intersection(set(person))\n",
    "    return len(finalset)\n",
    "        \n",
    "a2 = sum(map(count_group_yes_all, d6))\n",
    "aocd.submit(a2, part='b', day=6, year=2020)"
   ]
  },
  {
   "cell_type": "markdown",
   "metadata": {},
   "source": [
    "# Day 7"
   ]
  },
  {
   "cell_type": "code",
   "execution_count": 2,
   "metadata": {},
   "outputs": [
    {
     "name": "stdout",
     "output_type": "stream",
     "text": [
      "594\n"
     ]
    },
    {
     "data": {
      "text/plain": [
       "['vibrant salmon bags contain 1 vibrant gold bag, 2 wavy aqua bags, 1 dotted crimson bag.',\n",
       " 'dotted plum bags contain 3 wavy cyan bags.',\n",
       " 'muted salmon bags contain 2 pale purple bags, 3 dull orange bags, 2 dotted lime bags, 3 clear crimson bags.',\n",
       " 'wavy green bags contain 1 plaid crimson bag.',\n",
       " 'light salmon bags contain 3 posh lime bags, 1 plaid plum bag, 3 faded yellow bags, 4 clear fuchsia bags.']"
      ]
     },
     "execution_count": 2,
     "metadata": {},
     "output_type": "execute_result"
    }
   ],
   "source": [
    "d7 = aocd.get_data(day=7).split(\"\\n\")\n",
    "print(len(d7))\n",
    "d7[:5]"
   ]
  },
  {
   "cell_type": "markdown",
   "metadata": {},
   "source": [
    "### Part 1"
   ]
  },
  {
   "cell_type": "code",
   "execution_count": 12,
   "metadata": {},
   "outputs": [
    {
     "data": {
      "text/plain": [
       "272"
      ]
     },
     "execution_count": 12,
     "metadata": {},
     "output_type": "execute_result"
    }
   ],
   "source": [
    "def get_bags(color, bags):\n",
    "    valid_rules = [x for x in d7 if (color in x) & (x[:len(color)] != color)]\n",
    "    inner_bags = list(map(lambda x: x.split(\" bags \")[0], valid_rules))\n",
    "    for x in [x for x in inner_bags if x not in bags]:\n",
    "        bags.append(x)\n",
    "    for ib in inner_bags:\n",
    "        get_bags(ib, bags)\n",
    "    return bags\n",
    "a1 = len(get_bags(\"shiny gold\", []))\n",
    "a1"
   ]
  },
  {
   "cell_type": "code",
   "execution_count": 39,
   "metadata": {},
   "outputs": [
    {
     "name": "stdout",
     "output_type": "stream",
     "text": [
      "That's the right answer!  You are one gold star closer to saving your vacation. [Continue to Part Two]\n"
     ]
    },
    {
     "data": {
      "text/plain": [
       "<Response [200]>"
      ]
     },
     "execution_count": 39,
     "metadata": {},
     "output_type": "execute_result"
    }
   ],
   "source": [
    "aocd.submit(a1, part='a', day=7, year=2020)"
   ]
  },
  {
   "cell_type": "markdown",
   "metadata": {},
   "source": [
    "### Part 2"
   ]
  },
  {
   "cell_type": "code",
   "execution_count": 14,
   "metadata": {},
   "outputs": [
    {
     "data": {
      "text/plain": [
       "172246"
      ]
     },
     "execution_count": 14,
     "metadata": {},
     "output_type": "execute_result"
    }
   ],
   "source": [
    "def get_total_bags(color, times, number):\n",
    "    rule = [x for x in d7 if x[:len(color)] == color][0]\n",
    "    if \"contain no other bags\" in rule:\n",
    "        pass\n",
    "    else:\n",
    "        splitrule = rule.split(\" \")\n",
    "        total = 0\n",
    "        for item in splitrule:\n",
    "            try: \n",
    "                total += int(item)\n",
    "            except:\n",
    "                pass\n",
    "        number.append(total * times)\n",
    "        included_types = rule.replace(\".\", \"\").replace(\"bags\",\"\").replace(\"bag\",\"\").split(\"contain \")[1:][0].split(\", \")\n",
    "        colortimes = []\n",
    "        for x in included_types:\n",
    "            newtimes = int(x.split(\" \")[0])\n",
    "            newcolor = \" \".join(x.strip().split(\" \")[1:])\n",
    "            colortimes.append((newcolor, newtimes))\n",
    "        for newcolor,newtimes in colortimes:\n",
    "            get_total_bags(newcolor, newtimes * times, number)\n",
    "    return number\n",
    "a2 = get_total_bags(\"shiny gold\", 1, [])\n",
    "a2sum = sum(a2)\n",
    "a2sum"
   ]
  },
  {
   "cell_type": "code",
   "execution_count": 136,
   "metadata": {},
   "outputs": [
    {
     "name": "stdout",
     "output_type": "stream",
     "text": [
      "That's the right answer!  You are one gold star closer to saving your vacation.You have completed Day 7! You can [Shareon\n",
      "  Twitter\n",
      "Mastodon] this victory or [Return to Your Advent Calendar].\n"
     ]
    },
    {
     "data": {
      "text/plain": [
       "<Response [200]>"
      ]
     },
     "execution_count": 136,
     "metadata": {},
     "output_type": "execute_result"
    }
   ],
   "source": [
    "aocd.submit(a2sum, part='b', day=7, year=2020)"
   ]
  },
  {
   "cell_type": "markdown",
   "metadata": {},
   "source": [
    "# Day 8"
   ]
  },
  {
   "cell_type": "code",
   "execution_count": 14,
   "metadata": {},
   "outputs": [
    {
     "name": "stdout",
     "output_type": "stream",
     "text": [
      "623\n"
     ]
    },
    {
     "data": {
      "text/plain": [
       "['acc -17', 'nop +318', 'jmp +1', 'acc -10', 'jmp +394']"
      ]
     },
     "execution_count": 14,
     "metadata": {},
     "output_type": "execute_result"
    }
   ],
   "source": [
    "d8 = aocd.get_data(day=8).split(\"\\n\")\n",
    "print(len(d8))\n",
    "d8[:5]"
   ]
  },
  {
   "cell_type": "markdown",
   "metadata": {},
   "source": [
    "### Part 1"
   ]
  },
  {
   "cell_type": "code",
   "execution_count": 7,
   "metadata": {},
   "outputs": [],
   "source": [
    "def run_prog(steps):\n",
    "    acc = 0\n",
    "    ran = []\n",
    "    idx = 0\n",
    "    while True:\n",
    "        if idx in ran:\n",
    "            return acc\n",
    "        else: \n",
    "            if steps[idx].startswith(\"acc\"):\n",
    "                acc += int(steps[idx].split(\" \")[1])\n",
    "                ran.append(idx)\n",
    "                idx += 1\n",
    "            elif steps[idx].startswith(\"nop\"):\n",
    "                ran.append(idx)\n",
    "                idx += 1\n",
    "            else:\n",
    "                ran.append(idx)\n",
    "                idx += int(steps[idx].split(\" \")[1])\n",
    "\n",
    "a1 = run_prog(d8)"
   ]
  },
  {
   "cell_type": "code",
   "execution_count": 8,
   "metadata": {},
   "outputs": [
    {
     "name": "stdout",
     "output_type": "stream",
     "text": [
      "That's the right answer!  You are one gold star closer to saving your vacation. You got rank 717 on this star's leaderboard. [Continue to Part Two]\n"
     ]
    },
    {
     "data": {
      "text/plain": [
       "<Response [200]>"
      ]
     },
     "execution_count": 8,
     "metadata": {},
     "output_type": "execute_result"
    }
   ],
   "source": [
    "aocd.submit(a1, part='a', day=8, year=2020)"
   ]
  },
  {
   "cell_type": "markdown",
   "metadata": {},
   "source": [
    "### Part 2"
   ]
  },
  {
   "cell_type": "code",
   "execution_count": 27,
   "metadata": {},
   "outputs": [
    {
     "data": {
      "text/plain": [
       "1626"
      ]
     },
     "execution_count": 27,
     "metadata": {},
     "output_type": "execute_result"
    }
   ],
   "source": [
    "def run_prog_by_replace(steps):\n",
    "    steps_orig = steps.copy()\n",
    "    jmp_indices = [i for i,x in enumerate(steps) if \"jmp\" in x]\n",
    "    nop_indices = [i for i,x in enumerate(steps) if \"nop\" in x]\n",
    "    for ji in jmp_indices:\n",
    "        acc = 0\n",
    "        ran = []\n",
    "        steps = steps_orig.copy()\n",
    "        steps[ji] = steps[ji].replace(\"jmp\", \"nop\")\n",
    "        idx = 0\n",
    "        while idx < len(steps):\n",
    "            if idx in ran:\n",
    "                break\n",
    "            else: \n",
    "                if steps[idx].startswith(\"acc\"):\n",
    "                    acc += int(steps[idx].split(\" \")[1])\n",
    "                    ran.append(idx)\n",
    "                    idx += 1\n",
    "                elif steps[idx].startswith(\"nop\"):\n",
    "                    ran.append(idx)\n",
    "                    idx += 1\n",
    "                else:\n",
    "                    ran.append(idx)\n",
    "                    idx += int(steps[idx].split(\" \")[1])\n",
    "        else:\n",
    "            return acc\n",
    "        \n",
    "    for ni in nop_indices:\n",
    "        acc = 0\n",
    "        ran = []\n",
    "        steps = steps_orig.copy()\n",
    "        steps[ni] = steps[ni].replace(\"nop\", \"jmp\")\n",
    "        idx = 0\n",
    "        while idx < len(steps):\n",
    "            if idx in ran:\n",
    "                break\n",
    "            else: \n",
    "                if steps[idx].startswith(\"acc\"):\n",
    "                    acc += int(steps[idx].split(\" \")[1])\n",
    "                    ran.append(idx)\n",
    "                    idx += 1\n",
    "                elif steps[idx].startswith(\"nop\"):\n",
    "                    ran.append(idx)\n",
    "                    idx += 1\n",
    "                else:\n",
    "                    ran.append(idx)\n",
    "                    idx += int(steps[idx].split(\" \")[1])\n",
    "        else:\n",
    "            return acc\n",
    "\n",
    "a2 = run_prog_by_replace(d8)\n",
    "a2"
   ]
  },
  {
   "cell_type": "code",
   "execution_count": 28,
   "metadata": {},
   "outputs": [
    {
     "name": "stdout",
     "output_type": "stream",
     "text": [
      "That's the right answer!  You are one gold star closer to saving your vacation.You have completed Day 8! You can [Shareon\n",
      "  Twitter\n",
      "Mastodon] this victory or [Return to Your Advent Calendar].\n"
     ]
    },
    {
     "data": {
      "text/plain": [
       "<Response [200]>"
      ]
     },
     "execution_count": 28,
     "metadata": {},
     "output_type": "execute_result"
    }
   ],
   "source": [
    "aocd.submit(a2, part='b', day=8, year=2020)"
   ]
  },
  {
   "cell_type": "code",
   "execution_count": null,
   "metadata": {},
   "outputs": [],
   "source": []
  }
 ],
 "metadata": {
  "kernelspec": {
   "display_name": "Python 3",
   "language": "python",
   "name": "python3"
  },
  "language_info": {
   "codemirror_mode": {
    "name": "ipython",
    "version": 3
   },
   "file_extension": ".py",
   "mimetype": "text/x-python",
   "name": "python",
   "nbconvert_exporter": "python",
   "pygments_lexer": "ipython3",
   "version": "3.8.3"
  }
 },
 "nbformat": 4,
 "nbformat_minor": 4
}
