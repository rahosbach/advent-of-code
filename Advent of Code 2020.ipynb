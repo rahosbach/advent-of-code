{
 "cells": [
  {
   "cell_type": "code",
   "execution_count": 1,
   "metadata": {},
   "outputs": [],
   "source": [
    "import itertools\n",
    "import math\n",
    "import re\n",
    "\n",
    "import aocd"
   ]
  },
  {
   "cell_type": "markdown",
   "metadata": {},
   "source": [
    "# Day 1"
   ]
  },
  {
   "cell_type": "markdown",
   "metadata": {},
   "source": [
    "### Part 1"
   ]
  },
  {
   "cell_type": "code",
   "execution_count": 10,
   "metadata": {},
   "outputs": [
    {
     "data": {
      "text/plain": [
       "63616"
      ]
     },
     "execution_count": 10,
     "metadata": {},
     "output_type": "execute_result"
    }
   ],
   "source": [
    "d1 = aocd.get_data(day=1).split(\"\\n\")\n",
    "\n",
    "def day1(intlist, numvals, targetsum):\n",
    "    \"\"\"Function that takes in a list of integers (`intlist`) and\n",
    "    determines the only `numvals` number of integers that sum\n",
    "    to `targetsum`.\"\"\"\n",
    "    return math.prod(map(int, [x for x in itertools.combinations(intlist, numvals) if sum(map(int, x)) == targetsum][0]))\n",
    "\n",
    "day1(d1, 2, 2020)"
   ]
  },
  {
   "cell_type": "markdown",
   "metadata": {},
   "source": [
    "### Part 2"
   ]
  },
  {
   "cell_type": "code",
   "execution_count": 11,
   "metadata": {},
   "outputs": [
    {
     "data": {
      "text/plain": [
       "67877784"
      ]
     },
     "execution_count": 11,
     "metadata": {},
     "output_type": "execute_result"
    }
   ],
   "source": [
    "day1(d1, 3, 2020)"
   ]
  },
  {
   "cell_type": "markdown",
   "metadata": {},
   "source": [
    "# Day 2"
   ]
  },
  {
   "cell_type": "markdown",
   "metadata": {},
   "source": [
    "### Part 1"
   ]
  },
  {
   "cell_type": "code",
   "execution_count": 17,
   "metadata": {},
   "outputs": [
    {
     "data": {
      "text/plain": [
       "378"
      ]
     },
     "execution_count": 17,
     "metadata": {},
     "output_type": "execute_result"
    }
   ],
   "source": [
    "d2 = aocd.get_data(day=2).split(\"\\n\")\n",
    "\n",
    "def valid_or_not(entry):\n",
    "    pieces = entry.split(\" \")\n",
    "    minnum = int(pieces[0].split(\"-\")[0])\n",
    "    maxnum = int(pieces[0].split(\"-\")[1])\n",
    "    letter = pieces[1][0]\n",
    "    pw = pieces[2]\n",
    "    \n",
    "    return (pw.count(letter) >= minnum) & (pw.count(letter) <= maxnum)\n",
    "\n",
    "sum(map(valid_or_not, d2))"
   ]
  },
  {
   "cell_type": "markdown",
   "metadata": {},
   "source": [
    "### Part 2"
   ]
  },
  {
   "cell_type": "code",
   "execution_count": 18,
   "metadata": {},
   "outputs": [
    {
     "data": {
      "text/plain": [
       "280"
      ]
     },
     "execution_count": 18,
     "metadata": {},
     "output_type": "execute_result"
    }
   ],
   "source": [
    "def valid_or_not2(row):\n",
    "    pieces = row.split(\" \")\n",
    "    idx1 = int(pieces[0].split(\"-\")[0])\n",
    "    idx2 = int(pieces[0].split(\"-\")[1])\n",
    "    letter = pieces[1][0]\n",
    "    pw = pieces[2]\n",
    "    \n",
    "    if (pw[idx1 - 1] == letter) & (pw[idx2 - 1] == letter):\n",
    "        return False\n",
    "    elif (pw[idx1 - 1] != letter) & (pw[idx2 - 1] != letter):\n",
    "        return False\n",
    "    else:\n",
    "        return True\n",
    "    \n",
    "sum(map(valid_or_not2, d2))"
   ]
  },
  {
   "cell_type": "markdown",
   "metadata": {},
   "source": [
    "# Day 3"
   ]
  },
  {
   "cell_type": "markdown",
   "metadata": {},
   "source": [
    "### Part 1"
   ]
  },
  {
   "cell_type": "code",
   "execution_count": 25,
   "metadata": {},
   "outputs": [
    {
     "data": {
      "text/plain": [
       "176"
      ]
     },
     "execution_count": 25,
     "metadata": {},
     "output_type": "execute_result"
    }
   ],
   "source": [
    "d3 = aocd.get_data(day=3).split(\"\\n\")\n",
    "\n",
    "def toboggan_ride(right, down, row=0, col=0):\n",
    "    \"\"\"Function to check for obstructions at each point\n",
    "    as you move `right` columns to the right and `down`\n",
    "    rows down at each step, starting at `row`,`col`.\"\"\"\n",
    "    \n",
    "    count = 0\n",
    "    rowlen = len(d3[0])\n",
    "    while row < (len(d3) - 1):\n",
    "        row += down\n",
    "        col = (col + right) % rowlen\n",
    "        if d3[row][col] == \"#\":\n",
    "            count += 1\n",
    "    return count\n",
    "\n",
    "toboggan_ride(3, 1, 0, 0)"
   ]
  },
  {
   "cell_type": "markdown",
   "metadata": {},
   "source": [
    "### Part 2"
   ]
  },
  {
   "cell_type": "code",
   "execution_count": 26,
   "metadata": {},
   "outputs": [
    {
     "name": "stdout",
     "output_type": "stream",
     "text": [
      "[85, 176, 96, 87, 47]\n"
     ]
    },
    {
     "data": {
      "text/plain": [
       "5872458240"
      ]
     },
     "execution_count": 26,
     "metadata": {},
     "output_type": "execute_result"
    }
   ],
   "source": [
    "slopes = [(1,1), (3,1), (5,1), (7,1), (1,2)]\n",
    "counts = []\n",
    "\n",
    "for right,down in slopes:\n",
    "    counts.append(toboggan_ride(right, down, 0, 0))\n",
    "\n",
    "print(counts)\n",
    "math.prod(counts)"
   ]
  },
  {
   "cell_type": "markdown",
   "metadata": {},
   "source": [
    "## Day 4"
   ]
  },
  {
   "cell_type": "markdown",
   "metadata": {},
   "source": [
    "### Part 1"
   ]
  },
  {
   "cell_type": "code",
   "execution_count": 37,
   "metadata": {},
   "outputs": [],
   "source": [
    "d4 = aocd.get_data(day=4).split(\"\\n\\n\")"
   ]
  },
  {
   "cell_type": "code",
   "execution_count": 38,
   "metadata": {},
   "outputs": [
    {
     "data": {
      "text/plain": [
       "245"
      ]
     },
     "execution_count": 38,
     "metadata": {},
     "output_type": "execute_result"
    }
   ],
   "source": [
    "valid_passports = 0\n",
    "\n",
    "for passport in d4:\n",
    "    required = [\"byr\", \"iyr\", \"eyr\", \"hgt\", \"hcl\", \"ecl\", \"pid\", \"cid\"]\n",
    "    ppt = passport.replace(\"\\n\", \" \").split(\" \")  \n",
    "    for ppid in ppt:\n",
    "        if ppid.split(\":\")[0] != \"\":\n",
    "            required.remove(ppid.split(\":\")[0])\n",
    "    if (len(required) == 0) | (required == [\"cid\"]):\n",
    "        valid_passports += 1\n",
    "valid_passports"
   ]
  },
  {
   "cell_type": "markdown",
   "metadata": {},
   "source": [
    "### Part 2"
   ]
  },
  {
   "cell_type": "code",
   "execution_count": 40,
   "metadata": {},
   "outputs": [
    {
     "data": {
      "text/plain": [
       "133"
      ]
     },
     "execution_count": 40,
     "metadata": {},
     "output_type": "execute_result"
    }
   ],
   "source": [
    "valid_passports = 0\n",
    "\n",
    "for passport in d4:\n",
    "    required = [\"byr\", \"iyr\", \"eyr\", \"hgt\", \"hcl\", \"ecl\", \"pid\", \"cid\"]\n",
    "    ppt = passport.replace(\"\\n\", \" \").split(\" \")  \n",
    "    for ppid in ppt:\n",
    "        if ppid.split(\":\")[0] != \"\":\n",
    "            if ppid.split(\":\")[0].lower() == \"byr\":\n",
    "                if (int(ppid.split(\":\")[1]) >= 1920) & (int(ppid.split(\":\")[1]) <= 2002):\n",
    "                    required.remove(\"byr\")\n",
    "                else:\n",
    "                    break\n",
    "            elif ppid.split(\":\")[0].lower() == \"iyr\":\n",
    "                if (int(ppid.split(\":\")[1]) >= 2010) & (int(ppid.split(\":\")[1]) <= 2020):\n",
    "                    required.remove(\"iyr\")\n",
    "                else:\n",
    "                    break\n",
    "            elif ppid.split(\":\")[0].lower() == \"eyr\":\n",
    "                if (int(ppid.split(\":\")[1]) >= 2020) & (int(ppid.split(\":\")[1]) <= 2030):\n",
    "                    required.remove(\"eyr\")\n",
    "                else:\n",
    "                    break\n",
    "            elif ppid.split(\":\")[0].lower() == \"hgt\":\n",
    "                if \"cm\" in ppid.split(\":\")[1].lower():\n",
    "                    if (int(ppid.split(\":\")[1][:-2]) >= 150) & (int(ppid.split(\":\")[1][:-2]) <= 193):\n",
    "                        required.remove(\"hgt\")\n",
    "                    else:\n",
    "                        break\n",
    "                elif \"in\" in ppid.split(\":\")[1].lower():\n",
    "                    if (int(ppid.split(\":\")[1][:-2]) >= 59) & (int(ppid.split(\":\")[1][:-2]) <= 76):\n",
    "                        required.remove(\"hgt\")\n",
    "                    else:\n",
    "                        break\n",
    "                else:\n",
    "                    break\n",
    "            elif ppid.split(\":\")[0].lower() == \"hcl\":\n",
    "                if re.match(r\"^#[0123456789abcdef]{6}$\", ppid.split(\":\")[1].lower()):\n",
    "                    required.remove(\"hcl\")\n",
    "                else:\n",
    "                    break\n",
    "            elif ppid.split(\":\")[0].lower() == \"ecl\":\n",
    "                if ppid.split(\":\")[1].lower() in [\"amb\", \"blu\", \"brn\", \"gry\", \"grn\", \"hzl\", \"oth\"]:\n",
    "                    required.remove(\"ecl\")\n",
    "                else:\n",
    "                    break\n",
    "            elif ppid.split(\":\")[0].lower() == \"pid\":\n",
    "                if re.match(r\"^[0123456789]{9}$\", ppid.split(\":\")[1].lower()):\n",
    "                    required.remove(\"pid\")\n",
    "                else:\n",
    "                    break                \n",
    "    if (len(required) == 0) | (required == [\"cid\"]):\n",
    "        valid_passports += 1\n",
    "valid_passports"
   ]
  },
  {
   "cell_type": "code",
   "execution_count": null,
   "metadata": {},
   "outputs": [],
   "source": []
  }
 ],
 "metadata": {
  "kernelspec": {
   "display_name": "Python 3",
   "language": "python",
   "name": "python3"
  },
  "language_info": {
   "codemirror_mode": {
    "name": "ipython",
    "version": 3
   },
   "file_extension": ".py",
   "mimetype": "text/x-python",
   "name": "python",
   "nbconvert_exporter": "python",
   "pygments_lexer": "ipython3",
   "version": "3.8.3"
  }
 },
 "nbformat": 4,
 "nbformat_minor": 4
}
